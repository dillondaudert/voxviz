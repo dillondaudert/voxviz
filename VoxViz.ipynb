{
 "cells": [
  {
   "cell_type": "code",
   "execution_count": 1,
   "metadata": {},
   "outputs": [
    {
     "data": {
      "text/html": [
       "<script>requirejs.config({paths: { 'plotly': ['https://cdn.plot.ly/plotly-latest.min']},});if(!window.Plotly) {{require(['plotly'],function(plotly) {window.Plotly=plotly;});}}</script>"
      ],
      "text/vnd.plotly.v1+html": [
       "<script>requirejs.config({paths: { 'plotly': ['https://cdn.plot.ly/plotly-latest.min']},});if(!window.Plotly) {{require(['plotly'],function(plotly) {window.Plotly=plotly;});}}</script>"
      ]
     },
     "metadata": {},
     "output_type": "display_data"
    }
   ],
   "source": [
    "import plotly\n",
    "from plotly.offline import download_plotlyjs, init_notebook_mode, plot, iplot\n",
    "init_notebook_mode(connected=True)\n",
    "import plotly.graph_objs as go\n",
    "import numpy as np\n",
    "# local helper function\n",
    "from voxvis import mesh_cubes\n",
    "from example_data import voxels"
   ]
  },
  {
   "cell_type": "code",
   "execution_count": 2,
   "metadata": {
    "scrolled": false
   },
   "outputs": [
    {
     "data": {
      "application/vnd.plotly.v1+json": {
       "data": [
        {
         "color": "blue",
         "hoverinfo": "none",
         "i": [
          0,
          1,
          0,
          1,
          0,
          6,
          2,
          7,
          4,
          7,
          1,
          7
         ],
         "j": [
          1,
          2,
          1,
          4,
          2,
          2,
          3,
          3,
          5,
          5,
          3,
          3
         ],
         "k": [
          2,
          3,
          4,
          5,
          4,
          4,
          6,
          6,
          6,
          6,
          5,
          5
         ],
         "type": "mesh3d",
         "x": [
          0,
          0,
          0,
          0,
          1,
          1,
          1,
          1
         ],
         "y": [
          0,
          0,
          1,
          1,
          0,
          0,
          1,
          1
         ],
         "z": [
          0,
          1,
          0,
          1,
          0,
          1,
          0,
          1
         ]
        },
        {
         "color": "blue",
         "hoverinfo": "none",
         "i": [
          0,
          1,
          0,
          1,
          0,
          6,
          2,
          7,
          4,
          7,
          1,
          7
         ],
         "j": [
          1,
          2,
          1,
          4,
          2,
          2,
          3,
          3,
          5,
          5,
          3,
          3
         ],
         "k": [
          2,
          3,
          4,
          5,
          4,
          4,
          6,
          6,
          6,
          6,
          5,
          5
         ],
         "type": "mesh3d",
         "x": [
          0,
          0,
          0,
          0,
          1,
          1,
          1,
          1
         ],
         "y": [
          0,
          0,
          1,
          1,
          0,
          0,
          1,
          1
         ],
         "z": [
          1,
          2,
          1,
          2,
          1,
          2,
          1,
          2
         ]
        },
        {
         "color": "blue",
         "hoverinfo": "none",
         "i": [
          0,
          1,
          0,
          1,
          0,
          6,
          2,
          7,
          4,
          7,
          1,
          7
         ],
         "j": [
          1,
          2,
          1,
          4,
          2,
          2,
          3,
          3,
          5,
          5,
          3,
          3
         ],
         "k": [
          2,
          3,
          4,
          5,
          4,
          4,
          6,
          6,
          6,
          6,
          5,
          5
         ],
         "type": "mesh3d",
         "x": [
          0,
          0,
          0,
          0,
          1,
          1,
          1,
          1
         ],
         "y": [
          0,
          0,
          1,
          1,
          0,
          0,
          1,
          1
         ],
         "z": [
          2,
          3,
          2,
          3,
          2,
          3,
          2,
          3
         ]
        },
        {
         "color": "blue",
         "hoverinfo": "none",
         "i": [
          0,
          1,
          0,
          1,
          0,
          6,
          2,
          7,
          4,
          7,
          1,
          7
         ],
         "j": [
          1,
          2,
          1,
          4,
          2,
          2,
          3,
          3,
          5,
          5,
          3,
          3
         ],
         "k": [
          2,
          3,
          4,
          5,
          4,
          4,
          6,
          6,
          6,
          6,
          5,
          5
         ],
         "type": "mesh3d",
         "x": [
          0,
          0,
          0,
          0,
          1,
          1,
          1,
          1
         ],
         "y": [
          0,
          0,
          1,
          1,
          0,
          0,
          1,
          1
         ],
         "z": [
          3,
          4,
          3,
          4,
          3,
          4,
          3,
          4
         ]
        },
        {
         "color": "blue",
         "hoverinfo": "none",
         "i": [
          0,
          1,
          0,
          1,
          0,
          6,
          2,
          7,
          4,
          7,
          1,
          7
         ],
         "j": [
          1,
          2,
          1,
          4,
          2,
          2,
          3,
          3,
          5,
          5,
          3,
          3
         ],
         "k": [
          2,
          3,
          4,
          5,
          4,
          4,
          6,
          6,
          6,
          6,
          5,
          5
         ],
         "type": "mesh3d",
         "x": [
          1,
          1,
          1,
          1,
          2,
          2,
          2,
          2
         ],
         "y": [
          0,
          0,
          1,
          1,
          0,
          0,
          1,
          1
         ],
         "z": [
          2,
          3,
          2,
          3,
          2,
          3,
          2,
          3
         ]
        },
        {
         "color": "blue",
         "hoverinfo": "none",
         "i": [
          0,
          1,
          0,
          1,
          0,
          6,
          2,
          7,
          4,
          7,
          1,
          7
         ],
         "j": [
          1,
          2,
          1,
          4,
          2,
          2,
          3,
          3,
          5,
          5,
          3,
          3
         ],
         "k": [
          2,
          3,
          4,
          5,
          4,
          4,
          6,
          6,
          6,
          6,
          5,
          5
         ],
         "type": "mesh3d",
         "x": [
          2,
          2,
          2,
          2,
          3,
          3,
          3,
          3
         ],
         "y": [
          0,
          0,
          1,
          1,
          0,
          0,
          1,
          1
         ],
         "z": [
          1,
          2,
          1,
          2,
          1,
          2,
          1,
          2
         ]
        },
        {
         "color": "blue",
         "hoverinfo": "none",
         "i": [
          0,
          1,
          0,
          1,
          0,
          6,
          2,
          7,
          4,
          7,
          1,
          7
         ],
         "j": [
          1,
          2,
          1,
          4,
          2,
          2,
          3,
          3,
          5,
          5,
          3,
          3
         ],
         "k": [
          2,
          3,
          4,
          5,
          4,
          4,
          6,
          6,
          6,
          6,
          5,
          5
         ],
         "type": "mesh3d",
         "x": [
          3,
          3,
          3,
          3,
          4,
          4,
          4,
          4
         ],
         "y": [
          0,
          0,
          1,
          1,
          0,
          0,
          1,
          1
         ],
         "z": [
          0,
          1,
          0,
          1,
          0,
          1,
          0,
          1
         ]
        },
        {
         "color": "blue",
         "hoverinfo": "none",
         "i": [
          0,
          1,
          0,
          1,
          0,
          6,
          2,
          7,
          4,
          7,
          1,
          7
         ],
         "j": [
          1,
          2,
          1,
          4,
          2,
          2,
          3,
          3,
          5,
          5,
          3,
          3
         ],
         "k": [
          2,
          3,
          4,
          5,
          4,
          4,
          6,
          6,
          6,
          6,
          5,
          5
         ],
         "type": "mesh3d",
         "x": [
          3,
          3,
          3,
          3,
          4,
          4,
          4,
          4
         ],
         "y": [
          0,
          0,
          1,
          1,
          0,
          0,
          1,
          1
         ],
         "z": [
          1,
          2,
          1,
          2,
          1,
          2,
          1,
          2
         ]
        },
        {
         "color": "blue",
         "hoverinfo": "none",
         "i": [
          0,
          1,
          0,
          1,
          0,
          6,
          2,
          7,
          4,
          7,
          1,
          7
         ],
         "j": [
          1,
          2,
          1,
          4,
          2,
          2,
          3,
          3,
          5,
          5,
          3,
          3
         ],
         "k": [
          2,
          3,
          4,
          5,
          4,
          4,
          6,
          6,
          6,
          6,
          5,
          5
         ],
         "type": "mesh3d",
         "x": [
          3,
          3,
          3,
          3,
          4,
          4,
          4,
          4
         ],
         "y": [
          0,
          0,
          1,
          1,
          0,
          0,
          1,
          1
         ],
         "z": [
          2,
          3,
          2,
          3,
          2,
          3,
          2,
          3
         ]
        },
        {
         "color": "blue",
         "hoverinfo": "none",
         "i": [
          0,
          1,
          0,
          1,
          0,
          6,
          2,
          7,
          4,
          7,
          1,
          7
         ],
         "j": [
          1,
          2,
          1,
          4,
          2,
          2,
          3,
          3,
          5,
          5,
          3,
          3
         ],
         "k": [
          2,
          3,
          4,
          5,
          4,
          4,
          6,
          6,
          6,
          6,
          5,
          5
         ],
         "type": "mesh3d",
         "x": [
          3,
          3,
          3,
          3,
          4,
          4,
          4,
          4
         ],
         "y": [
          0,
          0,
          1,
          1,
          0,
          0,
          1,
          1
         ],
         "z": [
          3,
          4,
          3,
          4,
          3,
          4,
          3,
          4
         ]
        }
       ],
       "layout": {
        "scene": {
         "aspectmode": "cube",
         "xaxis": {
          "range": [
           0,
           4
          ],
          "showgrid": false,
          "type": "linear"
         },
         "yaxis": {
          "range": [
           0,
           3
          ],
          "showgrid": false,
          "type": "linear"
         },
         "zaxis": {
          "range": [
           0,
           4
          ],
          "showgrid": false,
          "type": "linear"
         }
        }
       }
      },
      "text/html": [
       "<div id=\"375e53b1-dd49-4833-89c5-d15632910325\" style=\"height: 525px; width: 100%;\" class=\"plotly-graph-div\"></div><script type=\"text/javascript\">require([\"plotly\"], function(Plotly) { window.PLOTLYENV=window.PLOTLYENV || {};window.PLOTLYENV.BASE_URL=\"https://plot.ly\";Plotly.newPlot(\"375e53b1-dd49-4833-89c5-d15632910325\", [{\"type\": \"mesh3d\", \"x\": [0, 0, 0, 0, 1, 1, 1, 1], \"y\": [0, 0, 1, 1, 0, 0, 1, 1], \"z\": [0, 1, 0, 1, 0, 1, 0, 1], \"i\": [0, 1, 0, 1, 0, 6, 2, 7, 4, 7, 1, 7], \"j\": [1, 2, 1, 4, 2, 2, 3, 3, 5, 5, 3, 3], \"k\": [2, 3, 4, 5, 4, 4, 6, 6, 6, 6, 5, 5], \"hoverinfo\": \"none\", \"color\": \"blue\"}, {\"type\": \"mesh3d\", \"x\": [0, 0, 0, 0, 1, 1, 1, 1], \"y\": [0, 0, 1, 1, 0, 0, 1, 1], \"z\": [1, 2, 1, 2, 1, 2, 1, 2], \"i\": [0, 1, 0, 1, 0, 6, 2, 7, 4, 7, 1, 7], \"j\": [1, 2, 1, 4, 2, 2, 3, 3, 5, 5, 3, 3], \"k\": [2, 3, 4, 5, 4, 4, 6, 6, 6, 6, 5, 5], \"hoverinfo\": \"none\", \"color\": \"blue\"}, {\"type\": \"mesh3d\", \"x\": [0, 0, 0, 0, 1, 1, 1, 1], \"y\": [0, 0, 1, 1, 0, 0, 1, 1], \"z\": [2, 3, 2, 3, 2, 3, 2, 3], \"i\": [0, 1, 0, 1, 0, 6, 2, 7, 4, 7, 1, 7], \"j\": [1, 2, 1, 4, 2, 2, 3, 3, 5, 5, 3, 3], \"k\": [2, 3, 4, 5, 4, 4, 6, 6, 6, 6, 5, 5], \"hoverinfo\": \"none\", \"color\": \"blue\"}, {\"type\": \"mesh3d\", \"x\": [0, 0, 0, 0, 1, 1, 1, 1], \"y\": [0, 0, 1, 1, 0, 0, 1, 1], \"z\": [3, 4, 3, 4, 3, 4, 3, 4], \"i\": [0, 1, 0, 1, 0, 6, 2, 7, 4, 7, 1, 7], \"j\": [1, 2, 1, 4, 2, 2, 3, 3, 5, 5, 3, 3], \"k\": [2, 3, 4, 5, 4, 4, 6, 6, 6, 6, 5, 5], \"hoverinfo\": \"none\", \"color\": \"blue\"}, {\"type\": \"mesh3d\", \"x\": [1, 1, 1, 1, 2, 2, 2, 2], \"y\": [0, 0, 1, 1, 0, 0, 1, 1], \"z\": [2, 3, 2, 3, 2, 3, 2, 3], \"i\": [0, 1, 0, 1, 0, 6, 2, 7, 4, 7, 1, 7], \"j\": [1, 2, 1, 4, 2, 2, 3, 3, 5, 5, 3, 3], \"k\": [2, 3, 4, 5, 4, 4, 6, 6, 6, 6, 5, 5], \"hoverinfo\": \"none\", \"color\": \"blue\"}, {\"type\": \"mesh3d\", \"x\": [2, 2, 2, 2, 3, 3, 3, 3], \"y\": [0, 0, 1, 1, 0, 0, 1, 1], \"z\": [1, 2, 1, 2, 1, 2, 1, 2], \"i\": [0, 1, 0, 1, 0, 6, 2, 7, 4, 7, 1, 7], \"j\": [1, 2, 1, 4, 2, 2, 3, 3, 5, 5, 3, 3], \"k\": [2, 3, 4, 5, 4, 4, 6, 6, 6, 6, 5, 5], \"hoverinfo\": \"none\", \"color\": \"blue\"}, {\"type\": \"mesh3d\", \"x\": [3, 3, 3, 3, 4, 4, 4, 4], \"y\": [0, 0, 1, 1, 0, 0, 1, 1], \"z\": [0, 1, 0, 1, 0, 1, 0, 1], \"i\": [0, 1, 0, 1, 0, 6, 2, 7, 4, 7, 1, 7], \"j\": [1, 2, 1, 4, 2, 2, 3, 3, 5, 5, 3, 3], \"k\": [2, 3, 4, 5, 4, 4, 6, 6, 6, 6, 5, 5], \"hoverinfo\": \"none\", \"color\": \"blue\"}, {\"type\": \"mesh3d\", \"x\": [3, 3, 3, 3, 4, 4, 4, 4], \"y\": [0, 0, 1, 1, 0, 0, 1, 1], \"z\": [1, 2, 1, 2, 1, 2, 1, 2], \"i\": [0, 1, 0, 1, 0, 6, 2, 7, 4, 7, 1, 7], \"j\": [1, 2, 1, 4, 2, 2, 3, 3, 5, 5, 3, 3], \"k\": [2, 3, 4, 5, 4, 4, 6, 6, 6, 6, 5, 5], \"hoverinfo\": \"none\", \"color\": \"blue\"}, {\"type\": \"mesh3d\", \"x\": [3, 3, 3, 3, 4, 4, 4, 4], \"y\": [0, 0, 1, 1, 0, 0, 1, 1], \"z\": [2, 3, 2, 3, 2, 3, 2, 3], \"i\": [0, 1, 0, 1, 0, 6, 2, 7, 4, 7, 1, 7], \"j\": [1, 2, 1, 4, 2, 2, 3, 3, 5, 5, 3, 3], \"k\": [2, 3, 4, 5, 4, 4, 6, 6, 6, 6, 5, 5], \"hoverinfo\": \"none\", \"color\": \"blue\"}, {\"type\": \"mesh3d\", \"x\": [3, 3, 3, 3, 4, 4, 4, 4], \"y\": [0, 0, 1, 1, 0, 0, 1, 1], \"z\": [3, 4, 3, 4, 3, 4, 3, 4], \"i\": [0, 1, 0, 1, 0, 6, 2, 7, 4, 7, 1, 7], \"j\": [1, 2, 1, 4, 2, 2, 3, 3, 5, 5, 3, 3], \"k\": [2, 3, 4, 5, 4, 4, 6, 6, 6, 6, 5, 5], \"hoverinfo\": \"none\", \"color\": \"blue\"}], {\"scene\": {\"aspectmode\": \"cube\", \"xaxis\": {\"type\": \"linear\", \"range\": [0, 4], \"showgrid\": false}, \"yaxis\": {\"type\": \"linear\", \"range\": [0, 3], \"showgrid\": false}, \"zaxis\": {\"type\": \"linear\", \"range\": [0, 4], \"showgrid\": false}}}, {\"showLink\": true, \"linkText\": \"Export to plot.ly\"})});</script>"
      ],
      "text/vnd.plotly.v1+html": [
       "<div id=\"375e53b1-dd49-4833-89c5-d15632910325\" style=\"height: 525px; width: 100%;\" class=\"plotly-graph-div\"></div><script type=\"text/javascript\">require([\"plotly\"], function(Plotly) { window.PLOTLYENV=window.PLOTLYENV || {};window.PLOTLYENV.BASE_URL=\"https://plot.ly\";Plotly.newPlot(\"375e53b1-dd49-4833-89c5-d15632910325\", [{\"type\": \"mesh3d\", \"x\": [0, 0, 0, 0, 1, 1, 1, 1], \"y\": [0, 0, 1, 1, 0, 0, 1, 1], \"z\": [0, 1, 0, 1, 0, 1, 0, 1], \"i\": [0, 1, 0, 1, 0, 6, 2, 7, 4, 7, 1, 7], \"j\": [1, 2, 1, 4, 2, 2, 3, 3, 5, 5, 3, 3], \"k\": [2, 3, 4, 5, 4, 4, 6, 6, 6, 6, 5, 5], \"hoverinfo\": \"none\", \"color\": \"blue\"}, {\"type\": \"mesh3d\", \"x\": [0, 0, 0, 0, 1, 1, 1, 1], \"y\": [0, 0, 1, 1, 0, 0, 1, 1], \"z\": [1, 2, 1, 2, 1, 2, 1, 2], \"i\": [0, 1, 0, 1, 0, 6, 2, 7, 4, 7, 1, 7], \"j\": [1, 2, 1, 4, 2, 2, 3, 3, 5, 5, 3, 3], \"k\": [2, 3, 4, 5, 4, 4, 6, 6, 6, 6, 5, 5], \"hoverinfo\": \"none\", \"color\": \"blue\"}, {\"type\": \"mesh3d\", \"x\": [0, 0, 0, 0, 1, 1, 1, 1], \"y\": [0, 0, 1, 1, 0, 0, 1, 1], \"z\": [2, 3, 2, 3, 2, 3, 2, 3], \"i\": [0, 1, 0, 1, 0, 6, 2, 7, 4, 7, 1, 7], \"j\": [1, 2, 1, 4, 2, 2, 3, 3, 5, 5, 3, 3], \"k\": [2, 3, 4, 5, 4, 4, 6, 6, 6, 6, 5, 5], \"hoverinfo\": \"none\", \"color\": \"blue\"}, {\"type\": \"mesh3d\", \"x\": [0, 0, 0, 0, 1, 1, 1, 1], \"y\": [0, 0, 1, 1, 0, 0, 1, 1], \"z\": [3, 4, 3, 4, 3, 4, 3, 4], \"i\": [0, 1, 0, 1, 0, 6, 2, 7, 4, 7, 1, 7], \"j\": [1, 2, 1, 4, 2, 2, 3, 3, 5, 5, 3, 3], \"k\": [2, 3, 4, 5, 4, 4, 6, 6, 6, 6, 5, 5], \"hoverinfo\": \"none\", \"color\": \"blue\"}, {\"type\": \"mesh3d\", \"x\": [1, 1, 1, 1, 2, 2, 2, 2], \"y\": [0, 0, 1, 1, 0, 0, 1, 1], \"z\": [2, 3, 2, 3, 2, 3, 2, 3], \"i\": [0, 1, 0, 1, 0, 6, 2, 7, 4, 7, 1, 7], \"j\": [1, 2, 1, 4, 2, 2, 3, 3, 5, 5, 3, 3], \"k\": [2, 3, 4, 5, 4, 4, 6, 6, 6, 6, 5, 5], \"hoverinfo\": \"none\", \"color\": \"blue\"}, {\"type\": \"mesh3d\", \"x\": [2, 2, 2, 2, 3, 3, 3, 3], \"y\": [0, 0, 1, 1, 0, 0, 1, 1], \"z\": [1, 2, 1, 2, 1, 2, 1, 2], \"i\": [0, 1, 0, 1, 0, 6, 2, 7, 4, 7, 1, 7], \"j\": [1, 2, 1, 4, 2, 2, 3, 3, 5, 5, 3, 3], \"k\": [2, 3, 4, 5, 4, 4, 6, 6, 6, 6, 5, 5], \"hoverinfo\": \"none\", \"color\": \"blue\"}, {\"type\": \"mesh3d\", \"x\": [3, 3, 3, 3, 4, 4, 4, 4], \"y\": [0, 0, 1, 1, 0, 0, 1, 1], \"z\": [0, 1, 0, 1, 0, 1, 0, 1], \"i\": [0, 1, 0, 1, 0, 6, 2, 7, 4, 7, 1, 7], \"j\": [1, 2, 1, 4, 2, 2, 3, 3, 5, 5, 3, 3], \"k\": [2, 3, 4, 5, 4, 4, 6, 6, 6, 6, 5, 5], \"hoverinfo\": \"none\", \"color\": \"blue\"}, {\"type\": \"mesh3d\", \"x\": [3, 3, 3, 3, 4, 4, 4, 4], \"y\": [0, 0, 1, 1, 0, 0, 1, 1], \"z\": [1, 2, 1, 2, 1, 2, 1, 2], \"i\": [0, 1, 0, 1, 0, 6, 2, 7, 4, 7, 1, 7], \"j\": [1, 2, 1, 4, 2, 2, 3, 3, 5, 5, 3, 3], \"k\": [2, 3, 4, 5, 4, 4, 6, 6, 6, 6, 5, 5], \"hoverinfo\": \"none\", \"color\": \"blue\"}, {\"type\": \"mesh3d\", \"x\": [3, 3, 3, 3, 4, 4, 4, 4], \"y\": [0, 0, 1, 1, 0, 0, 1, 1], \"z\": [2, 3, 2, 3, 2, 3, 2, 3], \"i\": [0, 1, 0, 1, 0, 6, 2, 7, 4, 7, 1, 7], \"j\": [1, 2, 1, 4, 2, 2, 3, 3, 5, 5, 3, 3], \"k\": [2, 3, 4, 5, 4, 4, 6, 6, 6, 6, 5, 5], \"hoverinfo\": \"none\", \"color\": \"blue\"}, {\"type\": \"mesh3d\", \"x\": [3, 3, 3, 3, 4, 4, 4, 4], \"y\": [0, 0, 1, 1, 0, 0, 1, 1], \"z\": [3, 4, 3, 4, 3, 4, 3, 4], \"i\": [0, 1, 0, 1, 0, 6, 2, 7, 4, 7, 1, 7], \"j\": [1, 2, 1, 4, 2, 2, 3, 3, 5, 5, 3, 3], \"k\": [2, 3, 4, 5, 4, 4, 6, 6, 6, 6, 5, 5], \"hoverinfo\": \"none\", \"color\": \"blue\"}], {\"scene\": {\"aspectmode\": \"cube\", \"xaxis\": {\"type\": \"linear\", \"range\": [0, 4], \"showgrid\": false}, \"yaxis\": {\"type\": \"linear\", \"range\": [0, 3], \"showgrid\": false}, \"zaxis\": {\"type\": \"linear\", \"range\": [0, 4], \"showgrid\": false}}}, {\"showLink\": true, \"linkText\": \"Export to plot.ly\"})});</script>"
      ]
     },
     "metadata": {},
     "output_type": "display_data"
    }
   ],
   "source": [
    "x_max = voxels.shape[0]\n",
    "y_max = voxels.shape[1]\n",
    "z_max = voxels.shape[2]\n",
    "cubes = mesh_cubes(voxels)\n",
    "data = go.Data(cubes)\n",
    "layout = go.Layout(\n",
    "    scene = dict(\n",
    "        aspectmode='cube',\n",
    "        xaxis = dict(\n",
    "            type='linear',\n",
    "            range = [0,x_max],\n",
    "            showgrid=False,),\n",
    "        yaxis = dict(\n",
    "            type='linear',\n",
    "            range = [0,y_max],\n",
    "            showgrid=False,),\n",
    "        zaxis = dict(\n",
    "            type='linear',\n",
    "            range = [0,z_max],\n",
    "            showgrid=False,),\n",
    "    ),\n",
    ")\n",
    "fig = go.Figure(data=data, layout=layout)\n",
    "iplot(fig, filename='voxels')"
   ]
  },
  {
   "cell_type": "code",
   "execution_count": null,
   "metadata": {},
   "outputs": [],
   "source": []
  }
 ],
 "metadata": {
  "kernelspec": {
   "display_name": "Python 3",
   "language": "python",
   "name": "python3"
  },
  "language_info": {
   "codemirror_mode": {
    "name": "ipython",
    "version": 3
   },
   "file_extension": ".py",
   "mimetype": "text/x-python",
   "name": "python",
   "nbconvert_exporter": "python",
   "pygments_lexer": "ipython3",
   "version": "3.6.4"
  }
 },
 "nbformat": 4,
 "nbformat_minor": 1
}
